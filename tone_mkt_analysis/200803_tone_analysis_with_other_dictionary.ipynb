{
  "nbformat": 4,
  "nbformat_minor": 0,
  "metadata": {
    "colab": {
      "name": "200803_tone_analysis_with_other_dictionary.ipynb",
      "provenance": [],
      "collapsed_sections": [],
      "include_colab_link": true
    },
    "kernelspec": {
      "display_name": "Python 3",
      "language": "python",
      "name": "python3"
    },
    "language_info": {
      "codemirror_mode": {
        "name": "ipython",
        "version": 3
      },
      "file_extension": ".py",
      "mimetype": "text/x-python",
      "name": "python",
      "nbconvert_exporter": "python",
      "pygments_lexer": "ipython3",
      "version": "3.6.10"
    }
  },
  "cells": [
    {
      "cell_type": "markdown",
      "metadata": {
        "id": "view-in-github",
        "colab_type": "text"
      },
      "source": [
        "<a href=\"https://colab.research.google.com/github/HyeonminNam/BOK4/blob/master/tone_mkt_analysis/200803_tone_analysis_with_other_dictionary.ipynb\" target=\"_parent\"><img src=\"https://colab.research.google.com/assets/colab-badge.svg\" alt=\"Open In Colab\"/></a>"
      ]
    },
    {
      "cell_type": "markdown",
      "metadata": {
        "colab_type": "text",
        "id": "sUImrOn60Hz8"
      },
      "source": [
        "# 다른 사전 활용해서 tone 측정하기"
      ]
    },
    {
      "cell_type": "code",
      "metadata": {
        "colab_type": "code",
        "id": "Qlnm0MwC0H0A",
        "colab": {}
      },
      "source": [
        "import pandas as pd\n",
        "from ekonlpy.sentiment import MPCK\n",
        "\n",
        "# 문장의 polarity 판단하는 함수\n",
        "def pol_score(sentence, hawkish_lst, dovish_lst):\n",
        "    mpck = MPCK()\n",
        "    token_lst = mpck.tokenize(sentence)\n",
        "    ngram_lst = token_lst + mpck.ngramize(token_lst)\n",
        "    hawkish = 0\n",
        "    dovish = 0\n",
        "    for x in ngram_lst:\n",
        "        if x.lower() in hawkish_lst:\n",
        "            hawkish += 1\n",
        "        elif x.lower() in dovish_lst:\n",
        "            dovish += 1\n",
        "    # hawkish ngram과 dovish ngram의 수가 모두 0이거나 동일하면 polarity score 계산하지 않고 중립 문장으로 분류.\n",
        "    if hawkish == dovish:\n",
        "        return 'n'\n",
        "    # pol_score가 0보다 크면 긍정, 0보다 작으면 부정, 0이면 중립인 문장\n",
        "    pol_score = (hawkish-dovish)/(hawkish+dovish)\n",
        "    if pol_score > 0:\n",
        "        return 'h'\n",
        "    elif pol_score < 0:\n",
        "        return 'd'"
      ],
      "execution_count": null,
      "outputs": []
    },
    {
      "cell_type": "code",
      "metadata": {
        "colab_type": "code",
        "id": "WwPrBd130H0J",
        "colab": {}
      },
      "source": [
        "df_min = pd.read_csv('labeled_bok_minutes.csv')\n",
        "lst = ['bond', 'minutes', 'news', 'ex_bond', 'ex_minutes', 'ex_news']\n",
        "\n",
        "for x in lst:\n",
        "    dic_df = pd.read_csv('polarity_dic_{}.csv'.format(x))\n",
        "    min_pol = pd.DataFrame(columns = ['date', 'minutes', 'sentences', 'tone_mkt', 'call_rate', 'call_label'], index = df_min.index)\n",
        "    \n",
        "    # 의사록 자료의 데이터들 바탕으로 새로운 데이터프레임에 데이터 저장\n",
        "    for idx, row in df_min.iterrows():\n",
        "        min_pol['date'][idx] = row['date']\n",
        "        min_pol['minutes'][idx] = row['minutes']\n",
        "        min_pol['call_rate'][idx] = row['call_rate']\n",
        "        min_pol['call_label'][idx] = row['call_label']\n",
        "        # 의사록 내용 각 부분을  문장 단위로 나누고 다시 모두 합친 리스트 만들기\n",
        "        sentence_lst = []\n",
        "        if type(row['Economic Situation']) != float:\n",
        "            sentence_lst += row['Economic Situation'].split('@@@')\n",
        "        if type(row['Economic Situation']) != float:\n",
        "            sentence_lst += row['Foreign Currency'].split('@@@')\n",
        "        if type(row['Financial Markets']) != float:\n",
        "            sentence_lst += row['Financial Markets'].split('@@@')\n",
        "        min_pol['date'][idx] = row['date']\n",
        "        min_pol['sentences'][idx] = sentence_lst\n",
        "        \n",
        "    hawkish_lst = list(dic_df[dic_df['label'] == 'hawkish']['tn'])\n",
        "    dovish_lst = list(dic_df[dic_df['label'] == 'dovish']['tn'])\n",
        "    \n",
        "        # 문장의 polarity를 측정한 뒤에 이를 바탕으로 tone_mkt 계산하여 저장\n",
        "    for idx, row in min_pol.iterrows():\n",
        "        hawkish_tone = 0\n",
        "        dovish_tone = 0\n",
        "        for sentence in row['sentences']:\n",
        "            pol_sentence = pol_score(sentence, hawkish_lst, dovish_lst)\n",
        "            if pol_sentence == 'h':\n",
        "                hawkish_tone += 1\n",
        "            elif pol_sentence == 'd':\n",
        "                dovish_tone += 1\n",
        "        try:\n",
        "            tone_mkt = (hawkish_tone - dovish_tone) / (hawkish_tone + dovish_tone)\n",
        "        except:\n",
        "            tone_mkt = 0\n",
        "        min_pol['tone_mkt'][idx] = tone_mkt\n",
        "        print('{}번 행 의사록 완료'.format(idx))\n",
        "        \n",
        "        # csv 파일로 저장\n",
        "    min_pol.to_csv('minutes_tone_dic_{}.csv'.format(x), encoding='utf-8')\n",
        "    print('{} 사전 활용해서 의사록 tone 분석 완료'.format(x))"
      ],
      "execution_count": null,
      "outputs": []
    }
  ]
}